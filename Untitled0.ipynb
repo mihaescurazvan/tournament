{
  "cells": [
    {
      "cell_type": "markdown",
      "metadata": {
        "id": "7xM3rG04M8YV"
      },
      "source": [
        "# New section"
      ]
    },
    {
      "cell_type": "code",
      "execution_count": 3,
      "metadata": {
        "id": "MxvwjjmF3BEo"
      },
      "outputs": [],
      "source": [
        "import datetime\n",
        "import os\n",
        "from typing import Callable, Optional\n",
        "import pandas as pd\n",
        "from sklearn import preprocessing\n",
        "import numpy as np\n",
        "import torch\n",
        "\n",
        "from torch_geometric.data import (\n",
        "    Data,\n",
        "    InMemoryDataset\n",
        ")\n",
        "\n",
        "pd.set_option('display.max_columns', None)\n",
        "path = './HI-Small_Trans.csv/Hi-Small_Trans.csv'\n",
        "df = pd.read_csv(path)"
      ]
    },
    {
      "cell_type": "code",
      "execution_count": 4,
      "metadata": {
        "colab": {
          "base_uri": "https://localhost:8080/"
        },
        "id": "ZMMl62G26-73",
        "outputId": "58881c29-5fed-4b98-a704-11128e883f3c"
      },
      "outputs": [
        {
          "name": "stdout",
          "output_type": "stream",
          "text": [
            "          Timestamp  From Bank    Account  To Bank  Account.1  \\\n",
            "0  2022/09/01 00:20         10  8000EBD30       10  8000EBD30   \n",
            "1  2022/09/01 00:20       3208  8000F4580        1  8000F5340   \n",
            "2  2022/09/01 00:00       3209  8000F4670     3209  8000F4670   \n",
            "3  2022/09/01 00:02         12  8000F5030       12  8000F5030   \n",
            "4  2022/09/01 00:06         10  8000F5200       10  8000F5200   \n",
            "\n",
            "   Amount Received Receiving Currency  Amount Paid Payment Currency  \\\n",
            "0          3697.34          US Dollar      3697.34        US Dollar   \n",
            "1             0.01          US Dollar         0.01        US Dollar   \n",
            "2         14675.57          US Dollar     14675.57        US Dollar   \n",
            "3          2806.97          US Dollar      2806.97        US Dollar   \n",
            "4         36682.97          US Dollar     36682.97        US Dollar   \n",
            "\n",
            "  Payment Format  Is Laundering  \n",
            "0   Reinvestment              0  \n",
            "1         Cheque              0  \n",
            "2   Reinvestment              0  \n",
            "3   Reinvestment              0  \n",
            "4   Reinvestment              0  \n"
          ]
        }
      ],
      "source": [
        "print(df.head())"
      ]
    },
    {
      "cell_type": "code",
      "execution_count": 5,
      "metadata": {
        "colab": {
          "base_uri": "https://localhost:8080/"
        },
        "id": "zfN8RNDIQDOf",
        "outputId": "c00f359c-3af5-4649-ac46-9ba9cbff6b44"
      },
      "outputs": [
        {
          "name": "stdout",
          "output_type": "stream",
          "text": [
            "['Australian Dollar', 'Bitcoin', 'Brazil Real', 'Canadian Dollar', 'Euro', 'Mexican Peso', 'Ruble', 'Rupee', 'Saudi Riyal', 'Shekel', 'Swiss Franc', 'UK Pound', 'US Dollar', 'Yen', 'Yuan']\n"
          ]
        }
      ],
      "source": [
        "print(sorted(df['Receiving Currency'].unique()))"
      ]
    },
    {
      "cell_type": "code",
      "execution_count": 6,
      "metadata": {
        "colab": {
          "base_uri": "https://localhost:8080/"
        },
        "id": "-PsWHNJZ7Ga6",
        "outputId": "1ccb3a41-8eca-4bee-cab1-44a4c8aea94f"
      },
      "outputs": [
        {
          "name": "stdout",
          "output_type": "stream",
          "text": [
            "Timestamp              object\n",
            "From Bank               int64\n",
            "Account                object\n",
            "To Bank                 int64\n",
            "Account.1              object\n",
            "Amount Received       float64\n",
            "Receiving Currency     object\n",
            "Amount Paid           float64\n",
            "Payment Currency       object\n",
            "Payment Format         object\n",
            "Is Laundering           int64\n",
            "dtype: object\n"
          ]
        }
      ],
      "source": [
        "print(df.dtypes)"
      ]
    },
    {
      "cell_type": "code",
      "execution_count": 7,
      "metadata": {
        "colab": {
          "base_uri": "https://localhost:8080/"
        },
        "id": "MtZz8zgi7Jqi",
        "outputId": "1de94166-1abb-4ccb-ac5c-da39b6599d9a"
      },
      "outputs": [
        {
          "name": "stdout",
          "output_type": "stream",
          "text": [
            "Timestamp             0\n",
            "From Bank             0\n",
            "Account               0\n",
            "To Bank               0\n",
            "Account.1             0\n",
            "Amount Received       0\n",
            "Receiving Currency    0\n",
            "Amount Paid           0\n",
            "Payment Currency      0\n",
            "Payment Format        0\n",
            "Is Laundering         0\n",
            "dtype: int64\n"
          ]
        }
      ],
      "source": [
        "print(df.isnull().sum())"
      ]
    },
    {
      "cell_type": "code",
      "execution_count": 8,
      "metadata": {
        "id": "sZu5R07fNi-d"
      },
      "outputs": [],
      "source": [
        "def df_label_encoder(df, columns):\n",
        "        le = preprocessing.LabelEncoder()\n",
        "        for i in columns:\n",
        "            df[i] = le.fit_transform(df[i].astype(str))\n",
        "        return df\n",
        "\n",
        "def preprocess(df):\n",
        "        df = df_label_encoder(df,['Payment Format', 'Payment Currency', 'Receiving Currency'])\n",
        "        df['Timestamp'] = pd.to_datetime(df['Timestamp'])\n",
        "        df['Timestamp'] = df['Timestamp'].apply(lambda x: x.value)\n",
        "        df['Timestamp'] = (df['Timestamp']-df['Timestamp'].min())/(df['Timestamp'].max()-df['Timestamp'].min())\n",
        "\n",
        "        df['Account'] = df['From Bank'].astype(str) + '_' + df['Account']\n",
        "        df['Account.1'] = df['To Bank'].astype(str) + '_' + df['Account.1']\n",
        "        df = df.sort_values(by=['Account'])\n",
        "        receiving_df = df[['Account.1', 'Amount Received', 'Receiving Currency']]\n",
        "        paying_df = df[['Account', 'Amount Paid', 'Payment Currency']]\n",
        "        receiving_df = receiving_df.rename({'Account.1': 'Account'}, axis=1)\n",
        "        currency_ls = sorted(df['Receiving Currency'].unique())\n",
        "\n",
        "        return df, receiving_df, paying_df, currency_ls"
      ]
    },
    {
      "cell_type": "code",
      "execution_count": 9,
      "metadata": {
        "colab": {
          "base_uri": "https://localhost:8080/"
        },
        "id": "zgA6xfVrNmke",
        "outputId": "b5d955d5-8a65-4a83-f93f-27c5df344b58"
      },
      "outputs": [
        {
          "name": "stdout",
          "output_type": "stream",
          "text": [
            "         Timestamp  From Bank          Account  To Bank        Account.1  \\\n",
            "4278714   0.456320      10057  10057_803A115E0    29467  29467_803E020C0   \n",
            "2798190   0.285018      10057  10057_803A115E0    29467  29467_803E020C0   \n",
            "2798191   0.284233      10057  10057_803A115E0    29467  29467_803E020C0   \n",
            "3918769   0.417079      10057  10057_803A115E0    29467  29467_803E020C0   \n",
            "213094    0.000746      10057  10057_803A115E0    10057  10057_803A115E0   \n",
            "\n",
            "         Amount Received  Receiving Currency  Amount Paid  Payment Currency  \\\n",
            "4278714        787197.11                  13    787197.11                13   \n",
            "2798190        787197.11                  13    787197.11                13   \n",
            "2798191        681262.19                  13    681262.19                13   \n",
            "3918769        681262.19                  13    681262.19                13   \n",
            "213094         146954.27                  13    146954.27                13   \n",
            "\n",
            "         Payment Format  Is Laundering  \n",
            "4278714               3              0  \n",
            "2798190               3              0  \n",
            "2798191               4              0  \n",
            "3918769               4              0  \n",
            "213094                5              0  \n"
          ]
        }
      ],
      "source": [
        "df, receiving_df, paying_df, currency_ls = preprocess(df = df)\n",
        "print(df.head())"
      ]
    },
    {
      "cell_type": "code",
      "execution_count": 10,
      "metadata": {
        "colab": {
          "base_uri": "https://localhost:8080/"
        },
        "id": "Wt8xpeRSUHVz",
        "outputId": "f09c7e3a-7f71-4773-90aa-ecbfdf3e813a"
      },
      "outputs": [
        {
          "name": "stdout",
          "output_type": "stream",
          "text": [
            "                 Account  Amount Received  Receiving Currency\n",
            "4278714  29467_803E020C0        787197.11                  13\n",
            "2798190  29467_803E020C0        787197.11                  13\n",
            "2798191  29467_803E020C0        681262.19                  13\n",
            "3918769  29467_803E020C0        681262.19                  13\n",
            "213094   10057_803A115E0        146954.27                  13\n",
            "                 Account  Amount Paid  Payment Currency\n",
            "4278714  10057_803A115E0    787197.11                13\n",
            "2798190  10057_803A115E0    787197.11                13\n",
            "2798191  10057_803A115E0    681262.19                13\n",
            "3918769  10057_803A115E0    681262.19                13\n",
            "213094   10057_803A115E0    146954.27                13\n"
          ]
        }
      ],
      "source": [
        "print(receiving_df.head())\n",
        "print(paying_df.head())"
      ]
    },
    {
      "cell_type": "code",
      "execution_count": 11,
      "metadata": {
        "colab": {
          "base_uri": "https://localhost:8080/"
        },
        "id": "pTXuuqt_UKn6",
        "outputId": "a465bbc7-a332-414e-c0af-2c1437fc642f"
      },
      "outputs": [
        {
          "name": "stdout",
          "output_type": "stream",
          "text": [
            "[0, 1, 2, 3, 4, 5, 6, 7, 8, 9, 10, 11, 12, 13, 14]\n"
          ]
        }
      ],
      "source": [
        "print(currency_ls)"
      ]
    },
    {
      "cell_type": "code",
      "execution_count": 12,
      "metadata": {
        "id": "qmd9YnySUMci"
      },
      "outputs": [],
      "source": [
        "def get_all_account(df):\n",
        "        ldf = df[['Account', 'From Bank']]\n",
        "        rdf = df[['Account.1', 'To Bank']]\n",
        "        suspicious = df[df['Is Laundering']==1]\n",
        "        s1 = suspicious[['Account', 'Is Laundering']]\n",
        "        s2 = suspicious[['Account.1', 'Is Laundering']]\n",
        "        s2 = s2.rename({'Account.1': 'Account'}, axis=1)\n",
        "        suspicious = pd.concat([s1, s2], join='outer')\n",
        "        suspicious = suspicious.drop_duplicates()\n",
        "\n",
        "        ldf = ldf.rename({'From Bank': 'Bank'}, axis=1)\n",
        "        rdf = rdf.rename({'Account.1': 'Account', 'To Bank': 'Bank'}, axis=1)\n",
        "        df = pd.concat([ldf, rdf], join='outer')\n",
        "        df = df.drop_duplicates()\n",
        "\n",
        "        df['Is Laundering'] = 0\n",
        "        df.set_index('Account', inplace=True)\n",
        "        df.update(suspicious.set_index('Account'))\n",
        "        df = df.reset_index()\n",
        "        return df"
      ]
    },
    {
      "cell_type": "code",
      "execution_count": 13,
      "metadata": {
        "colab": {
          "base_uri": "https://localhost:8080/"
        },
        "id": "VC-OBWY4UQFd",
        "outputId": "77a74f85-cebe-469e-f0bd-ec536352139a"
      },
      "outputs": [
        {
          "name": "stdout",
          "output_type": "stream",
          "text": [
            "           Account   Bank  Is Laundering\n",
            "0  10057_803A115E0  10057              0\n",
            "1  10057_803AA8E90  10057              0\n",
            "2  10057_803AAB430  10057              0\n",
            "3  10057_803AACE20  10057              0\n",
            "4  10057_803AB4F70  10057              0\n"
          ]
        }
      ],
      "source": [
        "accounts = get_all_account(df)\n",
        "print(accounts.head())"
      ]
    },
    {
      "cell_type": "code",
      "execution_count": 14,
      "metadata": {
        "id": "yTgKaOIoUS-I"
      },
      "outputs": [],
      "source": [
        "def paid_currency_aggregate(currency_ls, paying_df, accounts):\n",
        "        for i in currency_ls:\n",
        "            temp = paying_df[paying_df['Payment Currency'] == i]\n",
        "            accounts['avg paid '+str(i)] = temp['Amount Paid'].groupby(temp['Account']).transform('mean')\n",
        "        return accounts\n",
        "\n",
        "def received_currency_aggregate(currency_ls, receiving_df, accounts):\n",
        "    for i in currency_ls:\n",
        "        temp = receiving_df[receiving_df['Receiving Currency'] == i]\n",
        "        accounts['avg received '+str(i)] = temp['Amount Received'].groupby(temp['Account']).transform('mean')\n",
        "    accounts = accounts.fillna(0)\n",
        "    return accounts"
      ]
    },
    {
      "cell_type": "code",
      "execution_count": 15,
      "metadata": {
        "id": "-Ep6GOfNUXUE"
      },
      "outputs": [],
      "source": [
        "def get_node_attr(currency_ls, paying_df,receiving_df, accounts):\n",
        "        node_df = paid_currency_aggregate(currency_ls, paying_df, accounts)\n",
        "        node_df = received_currency_aggregate(currency_ls, receiving_df, node_df)\n",
        "        node_label = torch.from_numpy(node_df['Is Laundering'].values).to(torch.float)\n",
        "        node_df = node_df.drop(['Account', 'Is Laundering'], axis=1)\n",
        "        node_df = df_label_encoder(node_df,['Bank'])\n",
        "#         node_df = torch.from_numpy(node_df.values).to(torch.float)  # comment for visualization\n",
        "        return node_df, node_label"
      ]
    },
    {
      "cell_type": "code",
      "execution_count": 16,
      "metadata": {
        "colab": {
          "base_uri": "https://localhost:8080/"
        },
        "id": "NtNrCyX2UYgf",
        "outputId": "a6c67fe9-df29-4587-937b-3a9d83f829ad"
      },
      "outputs": [
        {
          "name": "stdout",
          "output_type": "stream",
          "text": [
            "   Bank  avg paid 0  avg paid 1  avg paid 2  avg paid 3  avg paid 4  \\\n",
            "0     2         0.0         0.0         0.0         0.0         0.0   \n",
            "1     2         0.0         0.0         0.0         0.0         0.0   \n",
            "2     2         0.0         0.0         0.0         0.0         0.0   \n",
            "3     2         0.0         0.0         0.0         0.0         0.0   \n",
            "4     2         0.0         0.0         0.0         0.0         0.0   \n",
            "\n",
            "   avg paid 5  avg paid 6  avg paid 7  avg paid 8  avg paid 9  avg paid 10  \\\n",
            "0         0.0         0.0         0.0         0.0         0.0          0.0   \n",
            "1         0.0         0.0         0.0         0.0         0.0          0.0   \n",
            "2         0.0         0.0         0.0         0.0         0.0          0.0   \n",
            "3         0.0         0.0         0.0         0.0         0.0          0.0   \n",
            "4         0.0         0.0         0.0         0.0         0.0          0.0   \n",
            "\n",
            "   avg paid 11   avg paid 12  avg paid 13  avg paid 14  avg received 0  \\\n",
            "0          0.0   1922.000000          0.0          0.0             0.0   \n",
            "1          0.0    480.223333          0.0          0.0             0.0   \n",
            "2          0.0  14675.570000          0.0          0.0             0.0   \n",
            "3          0.0  37340.843333          0.0          0.0             0.0   \n",
            "4          0.0  49649.409677          0.0          0.0             0.0   \n",
            "\n",
            "   avg received 1  avg received 2  avg received 3  avg received 4  \\\n",
            "0             0.0             0.0             0.0             0.0   \n",
            "1             0.0             0.0             0.0             0.0   \n",
            "2             0.0             0.0             0.0             0.0   \n",
            "3             0.0             0.0             0.0             0.0   \n",
            "4             0.0             0.0             0.0             0.0   \n",
            "\n",
            "   avg received 5  avg received 6  avg received 7  avg received 8  \\\n",
            "0             0.0             0.0             0.0             0.0   \n",
            "1             0.0             0.0             0.0             0.0   \n",
            "2             0.0             0.0             0.0             0.0   \n",
            "3             0.0             0.0             0.0             0.0   \n",
            "4             0.0             0.0             0.0             0.0   \n",
            "\n",
            "   avg received 9  avg received 10  avg received 11  avg received 12  \\\n",
            "0             0.0              0.0              0.0       330.166429   \n",
            "1             0.0              0.0              0.0       119.992000   \n",
            "2             0.0              0.0              0.0     14675.570000   \n",
            "3             0.0              0.0              0.0       756.486190   \n",
            "4             0.0              0.0              0.0      3120.573333   \n",
            "\n",
            "   avg received 13  avg received 14  \n",
            "0              0.0              0.0  \n",
            "1              0.0              0.0  \n",
            "2              0.0              0.0  \n",
            "3              0.0              0.0  \n",
            "4              0.0              0.0  \n"
          ]
        }
      ],
      "source": [
        "node_df, node_label = get_node_attr(currency_ls, paying_df,receiving_df, accounts)\n",
        "print(node_df.head())"
      ]
    },
    {
      "cell_type": "code",
      "execution_count": 17,
      "metadata": {
        "id": "KIVUoxPwUccA"
      },
      "outputs": [],
      "source": [
        "def get_edge_df(accounts, df):\n",
        "        accounts = accounts.reset_index(drop=True)\n",
        "        accounts['ID'] = accounts.index\n",
        "        mapping_dict = dict(zip(accounts['Account'], accounts['ID']))\n",
        "        df['From'] = df['Account'].map(mapping_dict)\n",
        "        df['To'] = df['Account.1'].map(mapping_dict)\n",
        "        df = df.drop(['Account', 'Account.1', 'From Bank', 'To Bank'], axis=1)\n",
        "\n",
        "        edge_index = torch.stack([torch.from_numpy(df['From'].values), torch.from_numpy(df['To'].values)], dim=0)\n",
        "\n",
        "        df = df.drop(['Is Laundering', 'From', 'To'], axis=1)\n",
        "\n",
        "#         edge_attr = torch.from_numpy(df.values).to(torch.float)  # comment for visualization\n",
        "\n",
        "        edge_attr = df  # for visualization\n",
        "        return edge_attr, edge_index"
      ]
    },
    {
      "cell_type": "code",
      "execution_count": 18,
      "metadata": {
        "colab": {
          "base_uri": "https://localhost:8080/"
        },
        "id": "IxgXE7JvUdg_",
        "outputId": "257d8499-d5e7-4c0b-ff8e-6e6af311b07d"
      },
      "outputs": [
        {
          "name": "stdout",
          "output_type": "stream",
          "text": [
            "         Timestamp  Amount Received  Receiving Currency  Amount Paid  \\\n",
            "4278714   0.456320        787197.11                  13    787197.11   \n",
            "2798190   0.285018        787197.11                  13    787197.11   \n",
            "2798191   0.284233        681262.19                  13    681262.19   \n",
            "3918769   0.417079        681262.19                  13    681262.19   \n",
            "213094    0.000746        146954.27                  13    146954.27   \n",
            "\n",
            "         Payment Currency  Payment Format  \n",
            "4278714                13               3  \n",
            "2798190                13               3  \n",
            "2798191                13               4  \n",
            "3918769                13               4  \n",
            "213094                 13               5  \n"
          ]
        }
      ],
      "source": [
        "edge_attr, edge_index = get_edge_df(accounts, df)\n",
        "print(edge_attr.head())"
      ]
    },
    {
      "cell_type": "code",
      "execution_count": 19,
      "metadata": {
        "colab": {
          "base_uri": "https://localhost:8080/"
        },
        "id": "HCoKPmJ1UgL2",
        "outputId": "2873adae-5e94-4fcb-a832-017e10a4a51f"
      },
      "outputs": [
        {
          "name": "stdout",
          "output_type": "stream",
          "text": [
            "tensor([[     0,      0,      0,  ..., 496997, 496997, 496998],\n",
            "        [299458, 299458, 299458,  ..., 496997, 496997, 496998]])\n"
          ]
        }
      ],
      "source": [
        "print(edge_index)"
      ]
    },
    {
      "cell_type": "code",
      "execution_count": 20,
      "metadata": {
        "id": "AXqFrmffUi4l"
      },
      "outputs": [],
      "source": [
        "import torch\n",
        "import torch.nn as nn\n",
        "import torch.nn.functional as F\n",
        "import torch_geometric.transforms as T\n",
        "from torch_geometric.nn import GATConv, Linear\n",
        "\n",
        "class GAT(torch.nn.Module):\n",
        "    def __init__(self, in_channels, hidden_channels, out_channels, heads):\n",
        "        super().__init__()\n",
        "        self.conv1 = GATConv(in_channels, hidden_channels, heads, dropout=0.6)\n",
        "        self.conv2 = GATConv(hidden_channels * heads, int(hidden_channels/4), heads=1, concat=False, dropout=0.6)\n",
        "        self.lin = Linear(int(hidden_channels/4), out_channels)\n",
        "        self.sigmoid = nn.Sigmoid()\n",
        "\n",
        "    def forward(self, x, edge_index, edge_attr):\n",
        "        x = F.dropout(x, p=0.6, training=self.training)\n",
        "        x = F.elu(self.conv1(x, edge_index, edge_attr))\n",
        "        x = F.dropout(x, p=0.6, training=self.training)\n",
        "        x = F.elu(self.conv2(x, edge_index, edge_attr))\n",
        "        x = self.lin(x)\n",
        "        x = self.sigmoid(x)\n",
        "\n",
        "        return x"
      ]
    },
    {
      "cell_type": "code",
      "execution_count": 21,
      "metadata": {
        "id": "ltD7I5ljUm5N"
      },
      "outputs": [],
      "source": [
        "class AMLtoGraph(InMemoryDataset):\n",
        "\n",
        "    def __init__(self, root: str, edge_window_size: int = 10,\n",
        "                 transform: Optional[Callable] = None,\n",
        "                 pre_transform: Optional[Callable] = None):\n",
        "        self.edge_window_size = edge_window_size\n",
        "        super().__init__(root, transform, pre_transform)\n",
        "        self.data, self.slices = torch.load(self.processed_paths[0])\n",
        "\n",
        "    @property\n",
        "    def raw_file_names(self) -> str:\n",
        "        return 'HI-Small_Trans.csv'\n",
        "\n",
        "    @property\n",
        "    def processed_file_names(self) -> str:\n",
        "        return 'data.pt'\n",
        "\n",
        "    @property\n",
        "    def num_nodes(self) -> int:\n",
        "        return self._data.edge_index.max().item() + 1\n",
        "\n",
        "    def df_label_encoder(self, df, columns):\n",
        "        le = preprocessing.LabelEncoder()\n",
        "        for i in columns:\n",
        "            df[i] = le.fit_transform(df[i].astype(str))\n",
        "        return df\n",
        "\n",
        "\n",
        "    def preprocess(self, df):\n",
        "        df = self.df_label_encoder(df,['Payment Format', 'Payment Currency', 'Receiving Currency'])\n",
        "        df['Timestamp'] = pd.to_datetime(df['Timestamp'])\n",
        "        df['Timestamp'] = df['Timestamp'].apply(lambda x: x.value)\n",
        "        df['Timestamp'] = (df['Timestamp']-df['Timestamp'].min())/(df['Timestamp'].max()-df['Timestamp'].min())\n",
        "\n",
        "        df['Account'] = df['From Bank'].astype(str) + '_' + df['Account']\n",
        "        df['Account.1'] = df['To Bank'].astype(str) + '_' + df['Account.1']\n",
        "        df = df.sort_values(by=['Account'])\n",
        "        receiving_df = df[['Account.1', 'Amount Received', 'Receiving Currency']]\n",
        "        paying_df = df[['Account', 'Amount Paid', 'Payment Currency']]\n",
        "        receiving_df = receiving_df.rename({'Account.1': 'Account'}, axis=1)\n",
        "        currency_ls = sorted(df['Receiving Currency'].unique())\n",
        "\n",
        "        return df, receiving_df, paying_df, currency_ls\n",
        "\n",
        "    def get_all_account(self, df):\n",
        "        ldf = df[['Account', 'From Bank']]\n",
        "        rdf = df[['Account.1', 'To Bank']]\n",
        "        suspicious = df[df['Is Laundering']==1]\n",
        "        s1 = suspicious[['Account', 'Is Laundering']]\n",
        "        s2 = suspicious[['Account.1', 'Is Laundering']]\n",
        "        s2 = s2.rename({'Account.1': 'Account'}, axis=1)\n",
        "        suspicious = pd.concat([s1, s2], join='outer')\n",
        "        suspicious = suspicious.drop_duplicates()\n",
        "\n",
        "        ldf = ldf.rename({'From Bank': 'Bank'}, axis=1)\n",
        "        rdf = rdf.rename({'Account.1': 'Account', 'To Bank': 'Bank'}, axis=1)\n",
        "        df = pd.concat([ldf, rdf], join='outer')\n",
        "        df = df.drop_duplicates()\n",
        "\n",
        "        df['Is Laundering'] = 0\n",
        "        df.set_index('Account', inplace=True)\n",
        "        df.update(suspicious.set_index('Account'))\n",
        "        df = df.reset_index()\n",
        "        return df\n",
        "\n",
        "    def paid_currency_aggregate(self, currency_ls, paying_df, accounts):\n",
        "        for i in currency_ls:\n",
        "            temp = paying_df[paying_df['Payment Currency'] == i]\n",
        "            accounts['avg paid '+str(i)] = temp['Amount Paid'].groupby(temp['Account']).transform('mean')\n",
        "        return accounts\n",
        "\n",
        "    def received_currency_aggregate(self, currency_ls, receiving_df, accounts):\n",
        "        for i in currency_ls:\n",
        "            temp = receiving_df[receiving_df['Receiving Currency'] == i]\n",
        "            accounts['avg received '+str(i)] = temp['Amount Received'].groupby(temp['Account']).transform('mean')\n",
        "        accounts = accounts.fillna(0)\n",
        "        return accounts\n",
        "\n",
        "    def get_edge_df(self, accounts, df):\n",
        "        accounts = accounts.reset_index(drop=True)\n",
        "        accounts['ID'] = accounts.index\n",
        "        mapping_dict = dict(zip(accounts['Account'], accounts['ID']))\n",
        "        df['From'] = df['Account'].map(mapping_dict)\n",
        "        df['To'] = df['Account.1'].map(mapping_dict)\n",
        "        df = df.drop(['Account', 'Account.1', 'From Bank', 'To Bank'], axis=1)\n",
        "\n",
        "        edge_index = torch.stack([torch.from_numpy(df['From'].values), torch.from_numpy(df['To'].values)], dim=0)\n",
        "\n",
        "        df = df.drop(['Is Laundering', 'From', 'To'], axis=1)\n",
        "\n",
        "        edge_attr = torch.from_numpy(df.values).to(torch.float)\n",
        "        return edge_attr, edge_index\n",
        "\n",
        "    def get_node_attr(self, currency_ls, paying_df,receiving_df, accounts):\n",
        "        node_df = self.paid_currency_aggregate(currency_ls, paying_df, accounts)\n",
        "        node_df = self.received_currency_aggregate(currency_ls, receiving_df, node_df)\n",
        "        node_label = torch.from_numpy(node_df['Is Laundering'].values).to(torch.float)\n",
        "        node_df = node_df.drop(['Account', 'Is Laundering'], axis=1)\n",
        "        node_df = self.df_label_encoder(node_df,['Bank'])\n",
        "        node_df = torch.from_numpy(node_df.values).to(torch.float)\n",
        "        return node_df, node_label\n",
        "\n",
        "    def process(self):\n",
        "        df = pd.read_csv(self.raw_paths[0])\n",
        "        df, receiving_df, paying_df, currency_ls = self.preprocess(df)\n",
        "        accounts = self.get_all_account(df)\n",
        "        node_attr, node_label = self.get_node_attr(currency_ls, paying_df,receiving_df, accounts)\n",
        "        edge_attr, edge_index = self.get_edge_df(accounts, df)\n",
        "\n",
        "        data = Data(x=node_attr,\n",
        "                    edge_index=edge_index,\n",
        "                    y=node_label,\n",
        "                    edge_attr=edge_attr\n",
        "                    )\n",
        "\n",
        "        data_list = [data]\n",
        "        if self.pre_filter is not None:\n",
        "            data_list = [d for d in data_list if self.pre_filter(d)]\n",
        "\n",
        "        if self.pre_transform is not None:\n",
        "            data_list = [self.pre_transform(d) for d in data_list]\n",
        "\n",
        "        data, slices = self.collate(data_list)\n",
        "        torch.save((data, slices), self.processed_paths[0])"
      ]
    },
    {
      "cell_type": "code",
      "execution_count": 23,
      "metadata": {
        "colab": {
          "base_uri": "https://localhost:8080/",
          "height": 1000
        },
        "id": "FiqaHFHhUrbX",
        "outputId": "f4820a60-c519-4601-aa02-c0bffae16d6b"
      },
      "outputs": [
        {
          "name": "stderr",
          "output_type": "stream",
          "text": [
            "Processing...\n"
          ]
        }
      ],
      "source": [
        "import torch\n",
        "import torch_geometric.transforms as T\n",
        "from torch_geometric.loader import NeighborLoader\n",
        "\n",
        "device = torch.device('cuda' if torch.cuda.is_available() else 'cpu')\n",
        "dataset = AMLtoGraph('./HI-Small_Trans.csv')\n",
        "data = dataset[0]\n",
        "epoch = 100\n",
        "\n",
        "model = GAT(in_channels=data.num_features, hidden_channels=16, out_channels=1, heads=8)\n",
        "model = model.to(device)\n",
        "criterion = torch.nn.BCELoss()\n",
        "optimizer = torch.optim.SGD(model.parameters(), lr=0.0001)\n",
        "\n",
        "split = T.RandomNodeSplit(split='train_rest', num_val=0.1, num_test=0)\n",
        "data = split(data)\n",
        "\n",
        "train_loader = loader = NeighborLoader(\n",
        "    data,\n",
        "    num_neighbors=[30] * 2,\n",
        "    batch_size=256,\n",
        "    input_nodes=data.train_mask,\n",
        ")\n",
        "\n",
        "test_loader = loader = NeighborLoader(\n",
        "    data,\n",
        "    num_neighbors=[30] * 2,\n",
        "    batch_size=256,\n",
        "    input_nodes=data.val_mask,\n",
        ")\n",
        "\n",
        "for i in range(epoch):\n",
        "    total_loss = 0\n",
        "    model.train()\n",
        "    for data in train_loader:\n",
        "        optimizer.zero_grad()\n",
        "        data.to(device)\n",
        "        pred = model(data.x, data.edge_index, data.edge_attr)\n",
        "        ground_truth = data.y\n",
        "        loss = criterion(pred, ground_truth.unsqueeze(1))\n",
        "        loss.backward()\n",
        "        optimizer.step()\n",
        "        total_loss += float(loss)\n",
        "    if epoch%10 == 0:\n",
        "        print(f\"Epoch: {i:03d}, Loss: {total_loss:.4f}\")\n",
        "        model.eval()\n",
        "        acc = 0\n",
        "        total = 0\n",
        "        for test_data in test_loader:\n",
        "            test_data.to(device)\n",
        "            pred = model(test_data.x, test_data.edge_index, test_data.edge_attr)\n",
        "            ground_truth = test_data.y\n",
        "            correct = (pred == ground_truth.unsqueeze(1)).sum().item()\n",
        "            total += len(ground_truth)\n",
        "            acc += correct\n",
        "        acc = acc/total\n",
        "        print('accuracy:', acc)"
      ]
    }
  ],
  "metadata": {
    "colab": {
      "provenance": []
    },
    "kernelspec": {
      "display_name": "Python 3",
      "name": "python3"
    },
    "language_info": {
      "codemirror_mode": {
        "name": "ipython",
        "version": 3
      },
      "file_extension": ".py",
      "mimetype": "text/x-python",
      "name": "python",
      "nbconvert_exporter": "python",
      "pygments_lexer": "ipython3",
      "version": "3.12.2"
    }
  },
  "nbformat": 4,
  "nbformat_minor": 0
}
